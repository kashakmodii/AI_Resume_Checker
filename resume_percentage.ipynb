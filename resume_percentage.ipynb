{
 "cells": [
  {
   "cell_type": "markdown",
   "id": "678cbb30-46d7-4b01-9317-f74a03a81948",
   "metadata": {},
   "source": [
    "# 🧠 AI Resume Ranker\r\n",
    "\r\n",
    "An intelligent system that compares a candidate's resume with job descriptions and gives a match percentage based on content relevance using NLP.\r\n",
    "\r\n",
    "---\r\n",
    "\r\n",
    "## 📁 1. Import Required Libraries\r\n",
    "\r\n",
    "Import all the Python packages needed to read resumes and calculate similarity.\r\n",
    "\r\n",
    "---\r\n",
    "\r\n",
    "## 📄 2. Load Job Descriptions from Text File\r\n",
    "\r\n",
    "Read job roles and their descriptions from a `.txt` file using a custom format like `[job title]`.\r\n",
    "\r\n",
    "---\r\n",
    "\r\n",
    "## 📤 3. Extract Text from Resume (PDF or DOCX)\r\n",
    "\r\n",
    "Use Python to extract text from uploaded PDF or Word documents for analysis.\r\n",
    "\r\n",
    "---\r\n",
    "\r\n",
    "## 📊 4. Calculate Match Percentage\r\n",
    "\r\n",
    "Use TF-IDF and cosine similarity to measure how well the resume matches the job role.\r\n",
    "\r\n",
    "---\r\n",
    "\r\n",
    "## 🚀 5. Run the Resume Ranking System\r\n",
    "\r\n",
    "Collect user input (job title + resume path) and display the match percentage.\r\n",
    "\r\n",
    "---\r\n",
    "\r\n",
    "## ✅ 6. Display Match Result\r\n",
    "\r\n",
    "Print the result in a user-friendly format showing how well the resume fits the job.\r\n",
    "\r\n",
    "---\r\n",
    "\r\n",
    "## 📝 7. Conclusion\r\n",
    "\r\n",
    "This notebook provides an easy way to evaluate how suitable a resume is for specific job roles using AI techniques.\r\n"
   ]
  },
  {
   "cell_type": "code",
   "execution_count": 4,
   "id": "629659ea-7e12-4a3e-b7d8-0a694d027935",
   "metadata": {},
   "outputs": [
    {
     "name": "stdout",
     "output_type": "stream",
     "text": [
      "Defaulting to user installation because normal site-packages is not writeable\n",
      "Requirement already satisfied: PyPDF2 in c:\\users\\admin\\appdata\\roaming\\python\\python312\\site-packages (3.0.1)\n"
     ]
    }
   ],
   "source": [
    "!pip install PyPDF2"
   ]
  },
  {
   "cell_type": "code",
   "execution_count": 1,
   "id": "46dbd5c6-5b4e-4209-baf9-a50cf32ad7b3",
   "metadata": {},
   "outputs": [
    {
     "name": "stdout",
     "output_type": "stream",
     "text": [
      "Defaulting to user installation because normal site-packages is not writeable\n",
      "Collecting python-docx\n",
      "  Downloading python_docx-1.1.2-py3-none-any.whl.metadata (2.0 kB)\n",
      "Requirement already satisfied: lxml>=3.1.0 in c:\\programdata\\anaconda3\\lib\\site-packages (from python-docx) (5.2.1)\n",
      "Requirement already satisfied: typing-extensions>=4.9.0 in c:\\programdata\\anaconda3\\lib\\site-packages (from python-docx) (4.11.0)\n",
      "Downloading python_docx-1.1.2-py3-none-any.whl (244 kB)\n",
      "Installing collected packages: python-docx\n",
      "Successfully installed python-docx-1.1.2\n"
     ]
    }
   ],
   "source": [
    "!pip install python-docx"
   ]
  },
  {
   "cell_type": "code",
   "execution_count": 9,
   "id": "c72551a0-9270-4d43-8c9d-9350db567de9",
   "metadata": {},
   "outputs": [
    {
     "name": "stdout",
     "output_type": "stream",
     "text": [
      "Defaulting to user installation because normal site-packages is not writeable\n",
      "Requirement already satisfied: scikit-learn in c:\\programdata\\anaconda3\\lib\\site-packages (1.4.2)\n",
      "Requirement already satisfied: numpy>=1.19.5 in c:\\programdata\\anaconda3\\lib\\site-packages (from scikit-learn) (1.26.4)\n",
      "Requirement already satisfied: scipy>=1.6.0 in c:\\programdata\\anaconda3\\lib\\site-packages (from scikit-learn) (1.13.1)\n",
      "Requirement already satisfied: joblib>=1.2.0 in c:\\programdata\\anaconda3\\lib\\site-packages (from scikit-learn) (1.4.2)\n",
      "Requirement already satisfied: threadpoolctl>=2.0.0 in c:\\programdata\\anaconda3\\lib\\site-packages (from scikit-learn) (2.2.0)\n"
     ]
    }
   ],
   "source": [
    "!pip install scikit-learn"
   ]
  },
  {
   "cell_type": "code",
   "execution_count": 15,
   "id": "e0111722-7fa4-4596-ac99-19f34de30478",
   "metadata": {},
   "outputs": [
    {
     "name": "stdout",
     "output_type": "stream",
     "text": [
      "\n",
      "=== AI Resume Ranker ===\n",
      "\n",
      "📋 Available Job Titles:\n",
      "- Data Scientist\n",
      "- Software Engineer\n",
      "- Web Developer\n",
      "- Machine Learning Engineer\n",
      "- Android Developer\n",
      "- Data Analyst\n",
      "- Ui/Ux Designer\n",
      "- Network Engineer\n",
      "- Devops Engineer\n",
      "- Cybersecurity Analyst\n",
      "- Project Manager\n",
      "- Graphic Designer\n",
      "- Content Writer\n",
      "- Marketing Manager\n",
      "- Accountant\n",
      "- Human Resources Specialist\n",
      "- Customer Support Representative\n",
      "- Mechanical Engineer\n",
      "- Electrical Engineer\n",
      "- Civil Engineer\n",
      "- Ai Engineer\n",
      "- Database Administrator\n",
      "- Cloud Engineer\n",
      "- Frontend Developer\n",
      "- Backend Developer\n",
      "- Full Stack Developer\n",
      "- Qa Tester\n"
     ]
    },
    {
     "name": "stdin",
     "output_type": "stream",
     "text": [
      "\n",
      "Enter job title exactly as shown:  web developer\n",
      "Enter resume path (PDF or DOCX):  Web_Developer_Resume_John_Doe.pdf\n"
     ]
    },
    {
     "name": "stdout",
     "output_type": "stream",
     "text": [
      "\n",
      "✅ Match Score for 'Web Developer': 32.94%\n"
     ]
    }
   ],
   "source": [
    "import os\n",
    "import PyPDF2\n",
    "from docx import Document\n",
    "from sklearn.feature_extraction.text import TfidfVectorizer\n",
    "from sklearn.metrics.pairwise import cosine_similarity\n",
    "\n",
    "# Load job descriptions from your [job title] format\n",
    "def load_job_descriptions(file_path='job_description.txt'):\n",
    "    job_descriptions = {}\n",
    "    current_title = ''\n",
    "    current_desc = []\n",
    "\n",
    "    with open(file_path, 'r', encoding='utf-8') as file:\n",
    "        for line in file:\n",
    "            line = line.strip()\n",
    "            if line.startswith('[') and line.endswith(']'):\n",
    "                if current_title and current_desc:\n",
    "                    job_descriptions[current_title] = ' '.join(current_desc).strip()\n",
    "                current_title = line[1:-1].lower()\n",
    "                current_desc = []\n",
    "            elif current_title:\n",
    "                current_desc.append(line)\n",
    "\n",
    "        if current_title and current_desc:\n",
    "            job_descriptions[current_title] = ' '.join(current_desc).strip()\n",
    "\n",
    "    return job_descriptions\n",
    "\n",
    "# Extract text from PDF\n",
    "def extract_text_from_pdf(path):\n",
    "    text = ''\n",
    "    with open(path, 'rb') as file:\n",
    "        reader = PyPDF2.PdfReader(file)\n",
    "        for page in reader.pages:\n",
    "            text += page.extract_text()\n",
    "    return text\n",
    "\n",
    "# Extract text from DOCX\n",
    "def extract_text_from_docx(path):\n",
    "    doc = Document(path)\n",
    "    return '\\n'.join([p.text for p in doc.paragraphs])\n",
    "\n",
    "# Calculate similarity\n",
    "def calculate_match(desc, resume):\n",
    "    vectorizer = TfidfVectorizer(stop_words='english')\n",
    "    tfidf = vectorizer.fit_transform([desc, resume])\n",
    "    score = cosine_similarity(tfidf[0:1], tfidf[1:2])[0][0]\n",
    "    return round(score * 100, 2)\n",
    "\n",
    "# Main program\n",
    "def main():\n",
    "    print(\"\\n=== AI Resume Ranker ===\\n\")\n",
    "    job_descriptions = load_job_descriptions()\n",
    "\n",
    "    print(\"📋 Available Job Titles:\")\n",
    "    for job in job_descriptions:\n",
    "        print(f\"- {job.title()}\")\n",
    "\n",
    "    job_input = input(\"\\nEnter job title exactly as shown: \").strip().lower()\n",
    "    if job_input not in job_descriptions:\n",
    "        print(\"[❌] Job title not found!\")\n",
    "        return\n",
    "\n",
    "    resume_path = input(\"Enter resume path (PDF or DOCX): \").strip()\n",
    "    if not os.path.exists(resume_path):\n",
    "        print(\"[❌] Resume file not found!\")\n",
    "        return\n",
    "\n",
    "    if resume_path.endswith('.pdf'):\n",
    "        resume_text = extract_text_from_pdf(resume_path)\n",
    "    elif resume_path.endswith('.docx'):\n",
    "        resume_text = extract_text_from_docx(resume_path)\n",
    "    else:\n",
    "        print(\"[❌] Unsupported file format.\")\n",
    "        return\n",
    "\n",
    "    match_score = calculate_match(job_descriptions[job_input], resume_text)\n",
    "    print(f\"\\n✅ Match Score for '{job_input.title()}': {match_score}%\")\n",
    "\n",
    "# Run the app\n",
    "if __name__ == '__main__':\n",
    "    main()\n"
   ]
  }
 ],
 "metadata": {
  "kernelspec": {
   "display_name": "Python 3 (ipykernel)",
   "language": "python",
   "name": "python3"
  },
  "language_info": {
   "codemirror_mode": {
    "name": "ipython",
    "version": 3
   },
   "file_extension": ".py",
   "mimetype": "text/x-python",
   "name": "python",
   "nbconvert_exporter": "python",
   "pygments_lexer": "ipython3",
   "version": "3.12.4"
  }
 },
 "nbformat": 4,
 "nbformat_minor": 5
}
